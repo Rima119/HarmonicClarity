{
 "cells": [
  {
   "cell_type": "code",
   "execution_count": 7,
   "metadata": {},
   "outputs": [
    {
     "name": "stdout",
     "output_type": "stream",
     "text": [
      "^C\n"
     ]
    }
   ],
   "source": [
    "!python enhance.py"
   ]
  },
  {
   "cell_type": "code",
   "execution_count": null,
   "metadata": {},
   "outputs": [],
   "source": [
    "!python evaluate.py"
   ]
  },
  {
   "cell_type": "code",
   "execution_count": 4,
   "metadata": {},
   "outputs": [],
   "source": [
    "# import sys\n",
    "# import os\n",
    "\n",
    "# # Add the project root directory to sys.path\n",
    "# project_root = os.path.abspath(os.path.join(os.getcwd(), \"../../../..\"))\n",
    "# sys.path.append(project_root)\n",
    "\n",
    "# # Import the required modules\n",
    "# from clarity.enhancer.compressor import Compressor\n",
    "# from clarity.enhancer.nalr import NALR\n",
    "# from clarity.utils.audiogram import Audiogram, Listener\n",
    "# from clarity.utils.flac_encoder import FlacEncoder\n",
    "# from clarity.utils.signal_processing import (\n",
    "#     clip_signal,\n",
    "#     denormalize_signals,\n",
    "#     normalize_signal,\n",
    "#     resample,\n",
    "#     to_16bit,\n",
    "# )\n",
    "# from recipes.cad1.task1.baseline.evaluate import make_song_listener_list\n",
    "\n"
   ]
  }
 ],
 "metadata": {
  "kernelspec": {
   "display_name": "Python 3",
   "language": "python",
   "name": "python3"
  },
  "language_info": {
   "codemirror_mode": {
    "name": "ipython",
    "version": 3
   },
   "file_extension": ".py",
   "mimetype": "text/x-python",
   "name": "python",
   "nbconvert_exporter": "python",
   "pygments_lexer": "ipython3",
   "version": "3.10.11"
  }
 },
 "nbformat": 4,
 "nbformat_minor": 2
}
